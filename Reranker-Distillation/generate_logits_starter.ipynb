{
 "cells": [
  {
   "cell_type": "code",
   "execution_count": 1,
   "id": "26530e58-c58f-4492-bab3-5231f66bd273",
   "metadata": {},
   "outputs": [
    {
     "name": "stderr",
     "output_type": "stream",
     "text": [
      "2025-07-13 01:39:42.333117: I tensorflow/core/platform/cpu_feature_guard.cc:193] This TensorFlow binary is optimized with oneAPI Deep Neural Network Library (oneDNN) to use the following CPU instructions in performance-critical operations:  AVX2 AVX512F AVX512_VNNI AVX512_BF16 FMA\n",
      "To enable them in other operations, rebuild TensorFlow with the appropriate compiler flags.\n",
      "2025-07-13 01:39:42.449913: I tensorflow/core/util/util.cc:169] oneDNN custom operations are on. You may see slightly different numerical results due to floating-point round-off errors from different computation orders. To turn them off, set the environment variable `TF_ENABLE_ONEDNN_OPTS=0`.\n",
      "2025-07-13 01:39:42.477636: E tensorflow/stream_executor/cuda/cuda_blas.cc:2981] Unable to register cuBLAS factory: Attempting to register factory for plugin cuBLAS when one has already been registered\n",
      "2025-07-13 01:39:43.310716: W tensorflow/stream_executor/platform/default/dso_loader.cc:64] Could not load dynamic library 'libnvinfer.so.7'; dlerror: libnvinfer.so.7: cannot open shared object file: No such file or directory; LD_LIBRARY_PATH: /usr/local/nvidia/lib:/usr/local/nvidia/lib64\n",
      "2025-07-13 01:39:43.310802: W tensorflow/stream_executor/platform/default/dso_loader.cc:64] Could not load dynamic library 'libnvinfer_plugin.so.7'; dlerror: libnvinfer_plugin.so.7: cannot open shared object file: No such file or directory; LD_LIBRARY_PATH: /usr/local/nvidia/lib:/usr/local/nvidia/lib64\n",
      "2025-07-13 01:39:43.310808: W tensorflow/compiler/tf2tensorrt/utils/py_utils.cc:38] TF-TRT Warning: Cannot dlopen some TensorRT libraries. If you would like to use Nvidia GPU with TensorRT, please make sure the missing libraries mentioned above are installed properly.\n"
     ]
    },
    {
     "name": "stdout",
     "output_type": "stream",
     "text": [
      "INFO 07-13 01:39:44 [__init__.py:239] Automatically detected platform cuda.\n"
     ]
    },
    {
     "name": "stderr",
     "output_type": "stream",
     "text": [
      "2025-07-13 01:39:47,242 - INFO - Script started with the following arguments: {'model_path': '/root/autodl-tmp/Qwen3-Reranker-8B', 'input_files': ['train.jsonl', 'test.jsonl'], 'output_suffix': '_distill_qwen3_8b_vLLMlogit', 'batch_size': 8, 'max_model_len': 8192, 'gpu_memory_utilization': 0.9, 'task_instruction': 'Given a web search query, retrieve relevant passages that answer the query'}\n",
      "2025-07-13 01:39:47,242 - INFO - Initializing model and tokenizer...\n",
      "2025-07-13 01:39:47,243 - INFO - Detected 1 GPUs.\n",
      "2025-07-13 01:39:47,590 - INFO - Loading model with vLLM...\n"
     ]
    },
    {
     "name": "stdout",
     "output_type": "stream",
     "text": [
      "INFO 07-13 01:40:00 [config.py:689] This model supports multiple tasks: {'classify', 'embed', 'reward', 'generate', 'score'}. Defaulting to 'generate'.\n",
      "INFO 07-13 01:40:00 [config.py:1901] Chunked prefill is enabled with max_num_batched_tokens=8192.\n",
      "INFO 07-13 01:40:02 [core.py:61] Initializing a V1 LLM engine (v0.8.4) with config: model='/root/autodl-tmp/Qwen3-Reranker-8B', speculative_config=None, tokenizer='/root/autodl-tmp/Qwen3-Reranker-8B', skip_tokenizer_init=False, tokenizer_mode=auto, revision=None, override_neuron_config=None, tokenizer_revision=None, trust_remote_code=False, dtype=torch.bfloat16, max_seq_len=8192, download_dir=None, load_format=auto, tensor_parallel_size=1, pipeline_parallel_size=1, disable_custom_all_reduce=False, quantization=None, enforce_eager=False, kv_cache_dtype=auto,  device_config=cuda, decoding_config=DecodingConfig(guided_decoding_backend='auto', reasoning_backend=None), observability_config=ObservabilityConfig(show_hidden_metrics=False, otlp_traces_endpoint=None, collect_model_forward_time=False, collect_model_execute_time=False), seed=None, served_model_name=/root/autodl-tmp/Qwen3-Reranker-8B, num_scheduler_steps=1, multi_step_stream_outputs=True, enable_prefix_caching=True, chunked_prefill_enabled=True, use_async_output_proc=True, disable_mm_preprocessor_cache=False, mm_processor_kwargs=None, pooler_config=None, compilation_config={\"level\":3,\"custom_ops\":[\"none\"],\"splitting_ops\":[\"vllm.unified_attention\",\"vllm.unified_attention_with_output\"],\"use_inductor\":true,\"compile_sizes\":[],\"use_cudagraph\":true,\"cudagraph_num_of_warmups\":1,\"cudagraph_capture_sizes\":[512,504,496,488,480,472,464,456,448,440,432,424,416,408,400,392,384,376,368,360,352,344,336,328,320,312,304,296,288,280,272,264,256,248,240,232,224,216,208,200,192,184,176,168,160,152,144,136,128,120,112,104,96,88,80,72,64,56,48,40,32,24,16,8,4,2,1],\"max_capture_size\":512}\n",
      "WARNING 07-13 01:40:02 [utils.py:2444] Methods determine_num_available_blocks,device_config,get_cache_block_size_bytes,initialize_cache not implemented in <vllm.v1.worker.gpu_worker.Worker object at 0x7f0ae87ece80>\n",
      "INFO 07-13 01:40:03 [parallel_state.py:959] rank 0 in world size 1 is assigned as DP rank 0, PP rank 0, TP rank 0\n",
      "INFO 07-13 01:40:03 [cuda.py:221] Using Flash Attention backend on V1 engine.\n",
      "INFO 07-13 01:40:03 [gpu_model_runner.py:1276] Starting to load model /root/autodl-tmp/Qwen3-Reranker-8B...\n",
      "WARNING 07-13 01:40:03 [topk_topp_sampler.py:69] FlashInfer is not available. Falling back to the PyTorch-native implementation of top-p & top-k sampling. For the best performance, please install FlashInfer.\n"
     ]
    },
    {
     "name": "stderr",
     "output_type": "stream",
     "text": [
      "Loading safetensors checkpoint shards:   0% Completed | 0/5 [00:00<?, ?it/s]\n",
      "Loading safetensors checkpoint shards:  20% Completed | 1/5 [00:00<00:01,  2.50it/s]\n",
      "Loading safetensors checkpoint shards:  40% Completed | 2/5 [00:00<00:01,  2.21it/s]\n",
      "Loading safetensors checkpoint shards:  60% Completed | 3/5 [00:01<00:00,  2.04it/s]\n",
      "Loading safetensors checkpoint shards:  80% Completed | 4/5 [00:01<00:00,  2.14it/s]\n",
      "Loading safetensors checkpoint shards: 100% Completed | 5/5 [00:02<00:00,  2.68it/s]\n",
      "Loading safetensors checkpoint shards: 100% Completed | 5/5 [00:02<00:00,  2.42it/s]\n",
      "\n"
     ]
    },
    {
     "name": "stdout",
     "output_type": "stream",
     "text": [
      "INFO 07-13 01:40:05 [loader.py:458] Loading weights took 2.10 seconds\n",
      "INFO 07-13 01:40:06 [gpu_model_runner.py:1291] Model loading took 15.2644 GiB and 2.363566 seconds\n",
      "INFO 07-13 01:40:16 [backends.py:416] Using cache directory: /root/.cache/vllm/torch_compile_cache/e88efa3885/rank_0_0 for vLLM's torch.compile\n",
      "INFO 07-13 01:40:16 [backends.py:426] Dynamo bytecode transform time: 10.44 s\n",
      "INFO 07-13 01:40:17 [backends.py:115] Directly load the compiled graph for shape None from the cache\n",
      "INFO 07-13 01:40:27 [monitor.py:33] torch.compile takes 10.44 s in total\n",
      "INFO 07-13 01:40:28 [kv_cache_utils.py:634] GPU KV cache size: 82,432 tokens\n",
      "INFO 07-13 01:40:28 [kv_cache_utils.py:637] Maximum concurrency for 8,192 tokens per request: 10.06x\n",
      "INFO 07-13 01:41:06 [gpu_model_runner.py:1626] Graph capturing finished in 38 secs, took 0.59 GiB\n",
      "INFO 07-13 01:41:06 [core.py:163] init engine (profile, create kv cache, warmup model) took 60.54 seconds\n",
      "INFO 07-13 01:41:06 [core_client.py:435] Core engine process 0 ready.\n"
     ]
    },
    {
     "name": "stderr",
     "output_type": "stream",
     "text": [
      "2025-07-13 01:41:06,704 - INFO - Model loaded successfully.\n",
      "2025-07-13 01:41:06,708 - INFO - Start processing file: train.jsonl\n",
      "2025-07-13 01:41:06,708 - INFO - Output will be saved to: train_distill_qwen3_8b_vLLMlogit.jsonl\n",
      "2025-07-13 01:41:06,926 - INFO - Reformatting data...\n",
      "2025-07-13 01:41:07,082 - INFO - Original items: 19847, Reformatted to 593522 query-passage pairs.\n",
      "2025-07-13 01:41:07,082 - INFO - Starting to generate distillation data for 593522 examples...\n",
      "Generating for train.jsonl:   0%|          | 0/74191 [00:00<?, ?it/s]"
     ]
    },
    {
     "name": "stdout",
     "output_type": "stream",
     "text": [
      "\n",
      "================================================================================\n"
     ]
    },
    {
     "name": "stderr",
     "output_type": "stream",
     "text": [
      "Generating for train.jsonl: 100%|██████████| 74191/74191 [1:38:01<00:00, 12.61it/s]\n",
      "2025-07-13 03:19:08,452 - INFO - Distillation for train.jsonl successfully generated and saved to: train_distill_qwen3_8b_vLLMlogit.jsonl\n",
      "2025-07-13 03:19:08,525 - INFO - Start processing file: test.jsonl\n",
      "2025-07-13 03:19:08,525 - INFO - Output will be saved to: test_distill_qwen3_8b_vLLMlogit.jsonl\n",
      "2025-07-13 03:19:08,550 - INFO - Reformatting data...\n",
      "2025-07-13 03:19:08,575 - INFO - Original items: 2992, Reformatted to 89470 query-passage pairs.\n",
      "2025-07-13 03:19:08,575 - INFO - Starting to generate distillation data for 89470 examples...\n",
      "Generating for test.jsonl:   0%|          | 2/11184 [00:00<09:32, 19.55it/s]"
     ]
    },
    {
     "name": "stdout",
     "output_type": "stream",
     "text": [
      "================================================================================\n",
      "\n",
      "================================================================================\n"
     ]
    },
    {
     "name": "stderr",
     "output_type": "stream",
     "text": [
      "Generating for test.jsonl: 100%|██████████| 11184/11184 [14:46<00:00, 12.62it/s]\n",
      "2025-07-13 03:33:54,837 - INFO - Distillation for test.jsonl successfully generated and saved to: test_distill_qwen3_8b_vLLMlogit.jsonl\n",
      "2025-07-13 03:33:54,851 - INFO - \n",
      "All files have been processed. Model resources destroyed. Script finished.\n"
     ]
    },
    {
     "name": "stdout",
     "output_type": "stream",
     "text": [
      "================================================================================\n"
     ]
    },
    {
     "data": {
      "text/plain": [
       "0"
      ]
     },
     "execution_count": 1,
     "metadata": {},
     "output_type": "execute_result"
    }
   ],
   "source": [
    "import subprocess\n",
    "import os\n",
    "code = \"\"\"\n",
    "PROTOCOL_BUFFERS_PYTHON_IMPLEMENTATION=python \\\n",
    "python generate_logits.py \n",
    "\"\"\"\n",
    "process = subprocess.Popen(code, shell=True)\n",
    "process.wait()"
   ]
  }
 ],
 "metadata": {
  "kernelspec": {
   "display_name": "Python 3 (ipykernel)",
   "language": "python",
   "name": "python3"
  },
  "language_info": {
   "codemirror_mode": {
    "name": "ipython",
    "version": 3
   },
   "file_extension": ".py",
   "mimetype": "text/x-python",
   "name": "python",
   "nbconvert_exporter": "python",
   "pygments_lexer": "ipython3",
   "version": "3.10.8"
  }
 },
 "nbformat": 4,
 "nbformat_minor": 5
}
