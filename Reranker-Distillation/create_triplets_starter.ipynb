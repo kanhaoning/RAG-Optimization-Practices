{
 "cells": [
  {
   "cell_type": "code",
   "execution_count": 1,
   "id": "26530e58-c58f-4492-bab3-5231f66bd273",
   "metadata": {},
   "outputs": [
    {
     "name": "stderr",
     "output_type": "stream",
     "text": [
      "2025-07-13 05:49:23 - INFO - --- 开始数据转换任务 ---\n",
      "2025-07-13 05:49:23 - INFO - 输入文件: ['train_distill_qwen3_8b_vLLMlogit.jsonl', 'test_distill_qwen3_8b_vLLMlogit.jsonl']\n",
      "2025-07-13 05:49:23 - INFO - 参数: top_k=8, num_negatives=4\n",
      "2025-07-13 05:49:23 - INFO - --------------------------------------------------\n",
      "2025-07-13 05:49:23 - INFO - ▶️ 开始处理文件: train_distill_qwen3_8b_vLLMlogit.jsonl\n",
      "2025-07-13 05:49:23 - INFO -   - 采样策略: top_k=8, num_negatives=4\n",
      "  - 步骤 1/3: 读取并分组数据: 593522it [00:02, 267614.19it/s]\n",
      "2025-07-13 05:49:25 - INFO -   - 找到了 19820 个独立的 query。\n",
      "  - 步骤 2/3: 排序并生成样本: 100%|██████████| 19820/19820 [00:04<00:00, 4438.35it/s]\n",
      "2025-07-13 05:49:30 - INFO -   - 步骤 3/3: 转换完成！\n",
      "2025-07-13 05:49:30 - INFO - ✅ (采样后) 总共为 train_distill_qwen3_8b_vLLMlogit.jsonl 生成了 623112 个样本, 已保存到: train_distill_qwen3_8b_vLLMlogit_margin_sampled.jsonl\n",
      "2025-07-13 05:49:30 - INFO - --------------------------------------------------\n",
      "2025-07-13 05:49:30 - INFO - ▶️ 开始处理文件: test_distill_qwen3_8b_vLLMlogit.jsonl\n",
      "2025-07-13 05:49:30 - INFO -   - 采样策略: top_k=8, num_negatives=4\n",
      "  - 步骤 1/3: 读取并分组数据: 89470it [00:00, 271620.71it/s]\n",
      "2025-07-13 05:49:30 - INFO -   - 找到了 2992 个独立的 query。\n",
      "  - 步骤 2/3: 排序并生成样本: 100%|██████████| 2992/2992 [00:00<00:00, 4388.90it/s]\n",
      "2025-07-13 05:49:31 - INFO -   - 步骤 3/3: 转换完成！\n",
      "2025-07-13 05:49:31 - INFO - ✅ (采样后) 总共为 test_distill_qwen3_8b_vLLMlogit.jsonl 生成了 94017 个样本, 已保存到: test_distill_qwen3_8b_vLLMlogit_margin_sampled.jsonl\n",
      "2025-07-13 05:49:31 - INFO - --------------------------------------------------\n",
      "2025-07-13 05:49:31 - INFO - --- 所有任务完成！总共生成了 717129 个样本。 ---\n"
     ]
    },
    {
     "data": {
      "text/plain": [
       "0"
      ]
     },
     "execution_count": 1,
     "metadata": {},
     "output_type": "execute_result"
    }
   ],
   "source": [
    "import subprocess\n",
    "import os\n",
    "code = \"\"\"\n",
    "PROTOCOL_BUFFERS_PYTHON_IMPLEMENTATION=python \\\n",
    "python create_triplets.py \n",
    "\"\"\"\n",
    "process = subprocess.Popen(code, shell=True)\n",
    "process.wait()"
   ]
  }
 ],
 "metadata": {
  "kernelspec": {
   "display_name": "Python 3 (ipykernel)",
   "language": "python",
   "name": "python3"
  },
  "language_info": {
   "codemirror_mode": {
    "name": "ipython",
    "version": 3
   },
   "file_extension": ".py",
   "mimetype": "text/x-python",
   "name": "python",
   "nbconvert_exporter": "python",
   "pygments_lexer": "ipython3",
   "version": "3.10.8"
  }
 },
 "nbformat": 4,
 "nbformat_minor": 5
}
