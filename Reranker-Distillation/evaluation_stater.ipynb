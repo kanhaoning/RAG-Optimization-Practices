{
 "cells": [
  {
   "cell_type": "code",
   "execution_count": 1,
   "id": "26530e58-c58f-4492-bab3-5231f66bd273",
   "metadata": {},
   "outputs": [
    {
     "name": "stderr",
     "output_type": "stream",
     "text": [
      "2025-07-13 07:56:23.141337: I tensorflow/core/platform/cpu_feature_guard.cc:193] This TensorFlow binary is optimized with oneAPI Deep Neural Network Library (oneDNN) to use the following CPU instructions in performance-critical operations:  AVX2 AVX512F AVX512_VNNI AVX512_BF16 FMA\n",
      "To enable them in other operations, rebuild TensorFlow with the appropriate compiler flags.\n",
      "2025-07-13 07:56:23.261455: I tensorflow/core/util/util.cc:169] oneDNN custom operations are on. You may see slightly different numerical results due to floating-point round-off errors from different computation orders. To turn them off, set the environment variable `TF_ENABLE_ONEDNN_OPTS=0`.\n",
      "2025-07-13 07:56:23.290181: E tensorflow/stream_executor/cuda/cuda_blas.cc:2981] Unable to register cuBLAS factory: Attempting to register factory for plugin cuBLAS when one has already been registered\n",
      "2025-07-13 07:56:24.118501: W tensorflow/stream_executor/platform/default/dso_loader.cc:64] Could not load dynamic library 'libnvinfer.so.7'; dlerror: libnvinfer.so.7: cannot open shared object file: No such file or directory; LD_LIBRARY_PATH: /usr/local/nvidia/lib:/usr/local/nvidia/lib64\n",
      "2025-07-13 07:56:24.118566: W tensorflow/stream_executor/platform/default/dso_loader.cc:64] Could not load dynamic library 'libnvinfer_plugin.so.7'; dlerror: libnvinfer_plugin.so.7: cannot open shared object file: No such file or directory; LD_LIBRARY_PATH: /usr/local/nvidia/lib:/usr/local/nvidia/lib64\n",
      "2025-07-13 07:56:24.118571: W tensorflow/compiler/tf2tensorrt/utils/py_utils.cc:38] TF-TRT Warning: Cannot dlopen some TensorRT libraries. If you would like to use Nvidia GPU with TensorRT, please make sure the missing libraries mentioned above are installed properly.\n"
     ]
    },
    {
     "name": "stdout",
     "output_type": "stream",
     "text": [
      "正在从 test.jsonl 加载数据集...\n",
      "加载完成！共 2992 条样本。\n",
      "\n",
      "--- 正在加载并评估模型: /root/autodl-tmp/bge-reranker-v2-m3 ---\n"
     ]
    },
    {
     "name": "stderr",
     "output_type": "stream",
     "text": [
      "                                                                       \r"
     ]
    },
    {
     "name": "stdout",
     "output_type": "stream",
     "text": [
      "\n",
      "--- 正在加载并评估模型: output/checkpoint-1217 ---\n"
     ]
    },
    {
     "name": "stderr",
     "output_type": "stream",
     "text": [
      "                                                                       \r"
     ]
    },
    {
     "name": "stdout",
     "output_type": "stream",
     "text": [
      "\n",
      "\n",
      "==================================================\n",
      "✅ 最终评估结果汇总\n",
      "==================================================\n",
      "\n",
      "【蒸馏前】模型性能:\n",
      "  - MAP: 0.472061\n",
      "  - MRR@10: 0.478234\n",
      "  - NDCG@10: 0.547284\n",
      "\n",
      "【蒸馏后】模型性能:\n",
      "  - MAP: 0.565317\n",
      "  - MRR@10: 0.573779\n",
      "  - NDCG@10: 0.639033\n",
      "\n",
      "==================================================\n",
      "🚀 性能变化分析 (蒸馏后 vs. 蒸馏前)\n",
      "==================================================\n",
      "指标 [MAP]:\n",
      "  - 绝对提升: +0.093256\n",
      "  - 相对提升: +19.76% ↑\n",
      "指标 [MRR@10]:\n",
      "  - 绝对提升: +0.095545\n",
      "  - 相对提升: +19.98% ↑\n",
      "指标 [NDCG@10]:\n",
      "  - 绝对提升: +0.091748\n",
      "  - 相对提升: +16.76% ↑\n",
      "\n",
      "评估完成！✨\n"
     ]
    },
    {
     "data": {
      "text/plain": [
       "0"
      ]
     },
     "execution_count": 1,
     "metadata": {},
     "output_type": "execute_result"
    }
   ],
   "source": [
    "import subprocess\n",
    "import os\n",
    "code = \"\"\"\n",
    "PROTOCOL_BUFFERS_PYTHON_IMPLEMENTATION=python \\\n",
    "python evaluation.py \n",
    "\"\"\"\n",
    "process = subprocess.Popen(code, shell=True)\n",
    "process.wait()"
   ]
  }
 ],
 "metadata": {
  "kernelspec": {
   "display_name": "Python 3 (ipykernel)",
   "language": "python",
   "name": "python3"
  },
  "language_info": {
   "codemirror_mode": {
    "name": "ipython",
    "version": 3
   },
   "file_extension": ".py",
   "mimetype": "text/x-python",
   "name": "python",
   "nbconvert_exporter": "python",
   "pygments_lexer": "ipython3",
   "version": "3.10.8"
  }
 },
 "nbformat": 4,
 "nbformat_minor": 5
}
